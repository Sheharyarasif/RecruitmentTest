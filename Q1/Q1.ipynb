{
 "cells": [
  {
   "cell_type": "code",
   "execution_count": 2,
   "id": "3975b050",
   "metadata": {},
   "outputs": [],
   "source": [
    "import numpy as np"
   ]
  },
  {
   "cell_type": "code",
   "execution_count": 43,
   "id": "b9f3ccab",
   "metadata": {},
   "outputs": [],
   "source": [
    "num=10"
   ]
  },
  {
   "cell_type": "code",
   "execution_count": 44,
   "id": "0156f4fc",
   "metadata": {},
   "outputs": [
    {
     "name": "stdout",
     "output_type": "stream",
     "text": [
      "3628800\n"
     ]
    }
   ],
   "source": [
    "factorial=np.math.factorial(num)\n",
    "print(factorial)"
   ]
  },
  {
   "cell_type": "code",
   "execution_count": 45,
   "id": "8904154b",
   "metadata": {},
   "outputs": [
    {
     "name": "stdout",
     "output_type": "stream",
     "text": [
      "0\n",
      "0\n",
      "8\n",
      "8\n",
      "2\n",
      "6\n",
      "27\n"
     ]
    }
   ],
   "source": [
    "sum1=0\n",
    "while (factorial//10 >=1) :\n",
    "    \n",
    "    digit=factorial%10\n",
    "    print(digit)\n",
    "    factorial=factorial//10\n",
    "    sum1+=digit\n",
    "#     print(factorial)\n",
    "sum1+=factorial\n",
    "print(sum1)"
   ]
  },
  {
   "cell_type": "code",
   "execution_count": null,
   "id": "4909e1a0",
   "metadata": {},
   "outputs": [],
   "source": []
  },
  {
   "cell_type": "code",
   "execution_count": null,
   "id": "1105cc90",
   "metadata": {},
   "outputs": [],
   "source": []
  },
  {
   "cell_type": "code",
   "execution_count": null,
   "id": "783bbdfd",
   "metadata": {},
   "outputs": [],
   "source": []
  }
 ],
 "metadata": {
  "kernelspec": {
   "display_name": "Python 3 (ipykernel)",
   "language": "python",
   "name": "python3"
  },
  "language_info": {
   "codemirror_mode": {
    "name": "ipython",
    "version": 3
   },
   "file_extension": ".py",
   "mimetype": "text/x-python",
   "name": "python",
   "nbconvert_exporter": "python",
   "pygments_lexer": "ipython3",
   "version": "3.8.10"
  }
 },
 "nbformat": 4,
 "nbformat_minor": 5
}
